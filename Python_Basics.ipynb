{
  "nbformat": 4,
  "nbformat_minor": 0,
  "metadata": {
    "colab": {
      "provenance": []
    },
    "kernelspec": {
      "name": "python3",
      "display_name": "Python 3"
    },
    "language_info": {
      "name": "python"
    }
  },
  "cells": [
    {
      "cell_type": "code",
      "execution_count": null,
      "metadata": {
        "id": "UwuGYujOkB4u"
      },
      "outputs": [],
      "source": []
    },
    {
      "cell_type": "markdown",
      "source": [
        "**Python Basics Questions:**\n",
        "\n",
        "Q1: What is Python, and why is it popular?\n",
        "- Python is a high-level, easy-to-read interpreted programming language.\n",
        "- It is popular for its simplicity, vast libraries and large active coomunity.\n",
        "\n",
        "Q2: What is an interpreter in Python?\n",
        "- An interpreter is a program that reads and executes Python code line by line.\n",
        "\n",
        "Q3: What are pre-defined keywords in Python?\n",
        "- pre-defined keywords are reserved words with specific meanings, like if, else, for, etc.\n",
        "\n",
        "Q4: Can keywords be used as variable names?\n",
        "- Keywords cannot be used as variable names as they have predefined functionalities.\n",
        "\n",
        "Q5: What is mutability in Python?\n",
        "- It refers to whether an object can be changed after creation.\n",
        "\n",
        "Q6: Why are lists mutable, but tuples are immutable?\n",
        "- Lists are mutable and allow changes to their contents after creation. This is ideal when you need to add, remove, or modify elements.\n",
        "- Tuples are immutable and remain constant throughout the program's execution. Tuples are suitable for representing records where the order and values of elements are essential and should not be altered (e.g., coordinates, database records).\n",
        "\n",
        "Q7: What is the difference between == and is operators in Python?\n",
        "- == checks value equality\n",
        "- is checks memory location (identity).\n",
        "\n",
        "Q8: What are logical operators in Python?\n",
        "- logical operators are used to combine conditional statements. They allow you to perform logical operations on Boolean values (True or False).\n",
        "\n",
        "1. and:\n",
        "- Returns True if both operands are True.\n",
        "- Returns False if any one operand is False.\n",
        "2. or:\n",
        "- Returns True if at least one of the operands is True.\n",
        "- Returns False only if both operands are False\n",
        "3. not:\n",
        "- Returns the opposite Boolean value of the operand.\n",
        "- If the operand is True, it returns False, and vice versa.\n",
        "\n",
        "Q9: What is type casting in Python?\n",
        "- Change in data type of a variable from one type to another.\n",
        "(eg- int(\"150\") to convert a string to an integer).\n",
        "\n",
        "Q10: What is the difference between implicit and explicit type casting?\n",
        "- Implicit: Python interpreter understands such a need by itself and converts automatically during run.\n",
        "- Explicit: programer manually converts one data type into another using functions like int(), float(), str() etc.\n",
        "\n",
        "Q11: What is the purpose of conditional statements in Python?\n",
        "- Conditional statements in are used to control the flow of a program by executing specific blocks of code based on whether certain conditions are met. - They allow your program to make decisions and perform different actions depending on the input or the state of the program.\n",
        "- They enable your program to handle various scenarios and inputs appropriately, making the program more flexible and robust.\n",
        "\n",
        "Q12: How does the elif statement work?\n",
        "- The if-else statement checks a condition. If the condition is True, it executes the if block; otherwise, it executes the else block.\n",
        "- Example:\n",
        "\n",
        "x = 9\n",
        "\n",
        "if x > 15:\n",
        "\n",
        "  print(\"x is greater than 15\")\n",
        "\n",
        "else:\n",
        "\n",
        "  print(\"x is not greater than 15\")  \n",
        "\n",
        "Q13: What is the difference between for and while loops?\n",
        "- for Loop:\n",
        " - The for loop is used to iterate over a sequence (such as a list, tuple, dictionary, set, or string) or other iterable objects.\n",
        " - The loop runs a predetermined number of times, based on the number of items in the iterable.\n",
        " - It automatically handles the iteration and termination.\n",
        " - Example:\n",
        "\n",
        " for i in range(5):\n",
        "\n",
        " print(i)  \n",
        "   Output: 0 1 2 3 4\n",
        "\n",
        "- while Loop\n",
        " - The while loop is used to repeatedly execute a block of code as long as a specified condition is True.\n",
        " - The loop continues to execute as long as the condition remains True.\n",
        " - The condition is evaluated before each iteration, and if it becomes False, the loop terminates.\n",
        " -Example:\n",
        "\n",
        "count = 0\n",
        "\n",
        "while count < 5:\n",
        "\n",
        "  \n",
        "  print(count)  \n",
        "  \n",
        "  count += 1\n",
        "  \n",
        "  Output: 0 1 2 3 4\n",
        "\n",
        "\n",
        "Q14: Describe a scenario where a while loop is more suitable than a for loop.\n",
        "- A while loop is more suitable than a for loop in scenarios where the number of iterations is not known in advance\n",
        "- One common example is when you need to repeatedly prompt a user for input until they provide a valid response.\n",
        "-  consider a program that asks the user to enter a positive integer as their age. If the user enters an invalid input (negative number or non-integer), the program should keep asking until a valid input is provided.\n",
        "- This situation is ideal for a while loop because the number of attempts required to get a valid input is unpredictable and depends entirely on the user's actions."
      ],
      "metadata": {
        "id": "hvdHM-LWlu0l"
      }
    },
    {
      "cell_type": "code",
      "source": [
        "#Q1:  Write a Python program to print \"Hello, World!\"\n",
        "print(\"Hello, World!\")"
      ],
      "metadata": {
        "colab": {
          "base_uri": "https://localhost:8080/"
        },
        "id": "oiC_nPK0l4k8",
        "outputId": "0325918b-33f7-4a07-d04b-8786f84c1bb2"
      },
      "execution_count": 1,
      "outputs": [
        {
          "output_type": "stream",
          "name": "stdout",
          "text": [
            "Hello, World!\n"
          ]
        }
      ]
    },
    {
      "cell_type": "code",
      "source": [
        "#Q2: Write a Python program that displays your name and age.\n",
        "name = \"Devanshi Ghanshala\"\n",
        "age = 21\n",
        "print(\"My name is\", name, \"and I'm\", age, \"years old.\")"
      ],
      "metadata": {
        "colab": {
          "base_uri": "https://localhost:8080/"
        },
        "id": "d55YPb2nwYbe",
        "outputId": "68dfe005-c263-43f7-b3a4-a85123975b49"
      },
      "execution_count": 5,
      "outputs": [
        {
          "output_type": "stream",
          "name": "stdout",
          "text": [
            "My name is Devanshi Ghanshala and I'm 21 years old.\n"
          ]
        }
      ]
    },
    {
      "cell_type": "code",
      "source": [
        "#Q3: Write code to print all the pre-defined keywords in Python using the keyword library.\n",
        "import keyword\n",
        "print(\"Python Keywords:\")\n",
        "print(keyword.kwlist)"
      ],
      "metadata": {
        "colab": {
          "base_uri": "https://localhost:8080/"
        },
        "id": "61MQgZxNwUbL",
        "outputId": "082604ae-f81f-41d4-be4e-0a0dc6705e7c"
      },
      "execution_count": 13,
      "outputs": [
        {
          "output_type": "stream",
          "name": "stdout",
          "text": [
            "Python Keywords:\n",
            "['False', 'None', 'True', 'and', 'as', 'assert', 'async', 'await', 'break', 'class', 'continue', 'def', 'del', 'elif', 'else', 'except', 'finally', 'for', 'from', 'global', 'if', 'import', 'in', 'is', 'lambda', 'nonlocal', 'not', 'or', 'pass', 'raise', 'return', 'try', 'while', 'with', 'yield']\n"
          ]
        }
      ]
    },
    {
      "cell_type": "code",
      "source": [
        "#Q4: Write a program that checks if a given word is a Python keyword.\n",
        "import keyword\n",
        "word = input(\"Enter a word: \")\n",
        "if keyword.iskeyword(word):\n",
        "    print(word, \"is a Python keyword.\")\n",
        "else:\n",
        "    print(word, \"is NOT a Python keyword.\")"
      ],
      "metadata": {
        "colab": {
          "base_uri": "https://localhost:8080/"
        },
        "id": "EPU4FAan0dCo",
        "outputId": "be817216-59b6-4cd7-f8e8-b38760dd9e2f"
      },
      "execution_count": 18,
      "outputs": [
        {
          "output_type": "stream",
          "name": "stdout",
          "text": [
            "Enter a word: for\n",
            "for is a Python keyword.\n"
          ]
        }
      ]
    },
    {
      "cell_type": "code",
      "source": [
        "#Q5:Create a list and tuple in Python, and demonstrate how attempting to change an element works differently.\n",
        "my_list = [\"apple\", \"mango\", \"orange\", \"kiwi\", \"banana\"]\n",
        "my_list"
      ],
      "metadata": {
        "colab": {
          "base_uri": "https://localhost:8080/"
        },
        "id": "GMkSckLv2nX2",
        "outputId": "7fc03c6c-6377-4a71-d477-16afabff3c7a"
      },
      "execution_count": 21,
      "outputs": [
        {
          "output_type": "execute_result",
          "data": {
            "text/plain": [
              "['apple', 'mango', 'orange', 'kiwi', 'banana']"
            ]
          },
          "metadata": {},
          "execution_count": 21
        }
      ]
    },
    {
      "cell_type": "code",
      "source": [
        "my_list[0]= \"passionfruit\"\n",
        "my_list[2]= \"dragonfruit\"\n",
        "my_list[4]= \"starfruit\"\n",
        "my_list"
      ],
      "metadata": {
        "colab": {
          "base_uri": "https://localhost:8080/"
        },
        "id": "QrnNRA6d3IPR",
        "outputId": "01dda6b8-95dd-4b7f-8bb6-4cf927e842ef"
      },
      "execution_count": 27,
      "outputs": [
        {
          "output_type": "execute_result",
          "data": {
            "text/plain": [
              "['passionfruit', 'mango', 'dragonfruit', 'kiwi', 'starfruit']"
            ]
          },
          "metadata": {},
          "execution_count": 27
        }
      ]
    },
    {
      "cell_type": "code",
      "source": [
        "my_tuple = (\"apple\", \"mango\", \"orange\", \"kiwi\", \"banana\")\n",
        "my_tuple"
      ],
      "metadata": {
        "colab": {
          "base_uri": "https://localhost:8080/"
        },
        "id": "tcfKKnGM32P_",
        "outputId": "61e3982a-93a7-4986-82aa-883b0b780f40"
      },
      "execution_count": 33,
      "outputs": [
        {
          "output_type": "execute_result",
          "data": {
            "text/plain": [
              "('apple', 'mango', 'orange', 'kiwi', 'banana')"
            ]
          },
          "metadata": {},
          "execution_count": 33
        }
      ]
    },
    {
      "cell_type": "code",
      "source": [
        "my_tuple[0]= \"passionfruit\"\n",
        "my_tuple[2]= \"dragonfruit\"\n",
        "my_tuple[4]= \"starfruit\"\n",
        "my_tuple"
      ],
      "metadata": {
        "colab": {
          "base_uri": "https://localhost:8080/",
          "height": 193
        },
        "id": "vTM-dmzK39fQ",
        "outputId": "20f6cc74-6c59-4846-bf72-4df163e0efeb"
      },
      "execution_count": 38,
      "outputs": [
        {
          "output_type": "error",
          "ename": "TypeError",
          "evalue": "'tuple' object does not support item assignment",
          "traceback": [
            "\u001b[0;31m---------------------------------------------------------------------------\u001b[0m",
            "\u001b[0;31mTypeError\u001b[0m                                 Traceback (most recent call last)",
            "\u001b[0;32m<ipython-input-38-db624e527c14>\u001b[0m in \u001b[0;36m<cell line: 0>\u001b[0;34m()\u001b[0m\n\u001b[0;32m----> 1\u001b[0;31m \u001b[0mmy_tuple\u001b[0m\u001b[0;34m[\u001b[0m\u001b[0;36m0\u001b[0m\u001b[0;34m]\u001b[0m\u001b[0;34m=\u001b[0m \u001b[0;34m\"passionfruit\"\u001b[0m\u001b[0;34m\u001b[0m\u001b[0;34m\u001b[0m\u001b[0m\n\u001b[0m\u001b[1;32m      2\u001b[0m \u001b[0mmy_tuple\u001b[0m\u001b[0;34m[\u001b[0m\u001b[0;36m2\u001b[0m\u001b[0;34m]\u001b[0m\u001b[0;34m=\u001b[0m \u001b[0;34m\"dragonfruit\"\u001b[0m\u001b[0;34m\u001b[0m\u001b[0;34m\u001b[0m\u001b[0m\n\u001b[1;32m      3\u001b[0m \u001b[0mmy_tuple\u001b[0m\u001b[0;34m[\u001b[0m\u001b[0;36m4\u001b[0m\u001b[0;34m]\u001b[0m\u001b[0;34m=\u001b[0m \u001b[0;34m\"starfruit\"\u001b[0m\u001b[0;34m\u001b[0m\u001b[0;34m\u001b[0m\u001b[0m\n\u001b[1;32m      4\u001b[0m \u001b[0mmy_tuple\u001b[0m\u001b[0;34m\u001b[0m\u001b[0;34m\u001b[0m\u001b[0m\n",
            "\u001b[0;31mTypeError\u001b[0m: 'tuple' object does not support item assignment"
          ]
        }
      ]
    },
    {
      "cell_type": "code",
      "source": [
        "#Q6&7: Write a function to demonstrate the behavior of mutable and immutable arguments\n",
        "name = \"cookie\"\n",
        "num = 127\n",
        "name [0]= \"p\"\n",
        "num [0]= 9"
      ],
      "metadata": {
        "colab": {
          "base_uri": "https://localhost:8080/",
          "height": 193
        },
        "id": "Ws0yZAsa4yXC",
        "outputId": "9b497b8b-cf68-4e4f-c7a3-5cb697d2c21b"
      },
      "execution_count": 42,
      "outputs": [
        {
          "output_type": "error",
          "ename": "TypeError",
          "evalue": "'str' object does not support item assignment",
          "traceback": [
            "\u001b[0;31m---------------------------------------------------------------------------\u001b[0m",
            "\u001b[0;31mTypeError\u001b[0m                                 Traceback (most recent call last)",
            "\u001b[0;32m<ipython-input-42-253f7a928e58>\u001b[0m in \u001b[0;36m<cell line: 0>\u001b[0;34m()\u001b[0m\n\u001b[1;32m      2\u001b[0m \u001b[0mname\u001b[0m \u001b[0;34m=\u001b[0m \u001b[0;34m\"cookie\"\u001b[0m\u001b[0;34m\u001b[0m\u001b[0;34m\u001b[0m\u001b[0m\n\u001b[1;32m      3\u001b[0m \u001b[0mnum\u001b[0m \u001b[0;34m=\u001b[0m \u001b[0;36m127\u001b[0m\u001b[0;34m\u001b[0m\u001b[0;34m\u001b[0m\u001b[0m\n\u001b[0;32m----> 4\u001b[0;31m \u001b[0mname\u001b[0m \u001b[0;34m[\u001b[0m\u001b[0;36m0\u001b[0m\u001b[0;34m]\u001b[0m\u001b[0;34m=\u001b[0m \u001b[0;34m\"p\"\u001b[0m\u001b[0;34m\u001b[0m\u001b[0;34m\u001b[0m\u001b[0m\n\u001b[0m\u001b[1;32m      5\u001b[0m \u001b[0mnum\u001b[0m \u001b[0;34m[\u001b[0m\u001b[0;36m0\u001b[0m\u001b[0;34m]\u001b[0m\u001b[0;34m=\u001b[0m \u001b[0;36m9\u001b[0m\u001b[0;34m\u001b[0m\u001b[0;34m\u001b[0m\u001b[0m\n",
            "\u001b[0;31mTypeError\u001b[0m: 'str' object does not support item assignment"
          ]
        }
      ]
    },
    {
      "cell_type": "code",
      "source": [
        "shopping_list= [\"comb\", \"cake\", \"cast\", \"camera\", \"can\"]\n",
        "shopping_list [0]= \"pencil\"\n",
        "shopping_list"
      ],
      "metadata": {
        "colab": {
          "base_uri": "https://localhost:8080/"
        },
        "id": "XHrtOBt155Z4",
        "outputId": "5f4027cf-6dba-4912-fbae-fedac8d9a5ce"
      },
      "execution_count": 44,
      "outputs": [
        {
          "output_type": "execute_result",
          "data": {
            "text/plain": [
              "['pencil', 'cake', 'cast', 'camera', 'can']"
            ]
          },
          "metadata": {},
          "execution_count": 44
        }
      ]
    },
    {
      "cell_type": "code",
      "source": [
        "#Q8: Write a program to demonstrate the use of logical operators\n",
        "a = True\n",
        "b = False\n",
        "\n",
        "print(\"a and b:\", a and b)\n",
        "print(\"a or b:\", a or b)\n",
        "print(\"not a:\", not a)\n"
      ],
      "metadata": {
        "colab": {
          "base_uri": "https://localhost:8080/"
        },
        "id": "S8CuSQKW6hW2",
        "outputId": "6434f5dc-1483-421f-89bc-c2332b1a83fc"
      },
      "execution_count": 45,
      "outputs": [
        {
          "output_type": "stream",
          "name": "stdout",
          "text": [
            "a and b: False\n",
            "a or b: True\n",
            "not a: False\n"
          ]
        }
      ]
    },
    {
      "cell_type": "code",
      "source": [
        "#Q9: Write a Python program to convert user input from string to integer, float, and boolean types\n",
        "num= input(\"Enter a number: \")\n",
        "print(int(num))\n",
        "print(float(num))\n",
        "print(bool(num))"
      ],
      "metadata": {
        "colab": {
          "base_uri": "https://localhost:8080/"
        },
        "id": "7sNuPt7E7BOf",
        "outputId": "5100f0c2-9e86-4b36-d0e6-80af20b994b1"
      },
      "execution_count": 46,
      "outputs": [
        {
          "output_type": "stream",
          "name": "stdout",
          "text": [
            "Enter a number: 127\n",
            "127\n",
            "127.0\n",
            "True\n"
          ]
        }
      ]
    },
    {
      "cell_type": "code",
      "source": [
        "#Q10: Write code to demonstrate type casting with list elements\n",
        "my_list = [\"10\", \"20.5\", \"30\", \"40.7\", \"50\"]\n",
        "\n",
        "int_list = [int(float(x)) for x in my_list]\n",
        "float_list = [float(x) for x in my_list]\n",
        "\n",
        "print(\"Original List:\", my_list)\n",
        "print(\"List as Integers:\", int_list)\n",
        "print(\"List as Floats:\", float_list)"
      ],
      "metadata": {
        "colab": {
          "base_uri": "https://localhost:8080/"
        },
        "id": "kDCTeizo7Pq_",
        "outputId": "3d3d7c2c-39ae-4f14-d77b-1270605ca96b"
      },
      "execution_count": 48,
      "outputs": [
        {
          "output_type": "stream",
          "name": "stdout",
          "text": [
            "Original List: ['10', '20.5', '30', '40.7', '50']\n",
            "List as Integers: [10, 20, 30, 40, 50]\n",
            "List as Floats: [10.0, 20.5, 30.0, 40.7, 50.0]\n"
          ]
        }
      ]
    },
    {
      "cell_type": "code",
      "source": [
        "#Q11: Write a program that checks if a number is positive, negative, or zero\n",
        "num= int(input(\"enter a number: \"))\n",
        "if num > 0:\n",
        "  print (\"number is positive.\")\n",
        "elif num < 0:\n",
        "    print (\"number is negative.\")\n",
        "else:\n",
        "      print (\"number is zero.\")"
      ],
      "metadata": {
        "colab": {
          "base_uri": "https://localhost:8080/"
        },
        "id": "x-2yHvKG9S1i",
        "outputId": "c8e6e1b1-f488-4609-ba97-ef5d99a0a648"
      },
      "execution_count": 51,
      "outputs": [
        {
          "output_type": "stream",
          "name": "stdout",
          "text": [
            "enter a number: 127\n",
            "number is positive.\n"
          ]
        }
      ]
    },
    {
      "cell_type": "code",
      "source": [
        "#Q12: Write a for loop to print numbers from 1 to 100\n",
        "for i in range(1,101):\n",
        "  print (i)"
      ],
      "metadata": {
        "colab": {
          "base_uri": "https://localhost:8080/"
        },
        "id": "S5H1aSDz-BQM",
        "outputId": "f8e12b06-c513-44f2-9edf-5f4481b761a6"
      },
      "execution_count": 54,
      "outputs": [
        {
          "output_type": "stream",
          "name": "stdout",
          "text": [
            "1\n",
            "2\n",
            "3\n",
            "4\n",
            "5\n",
            "6\n",
            "7\n",
            "8\n",
            "9\n",
            "10\n",
            "11\n",
            "12\n",
            "13\n",
            "14\n",
            "15\n",
            "16\n",
            "17\n",
            "18\n",
            "19\n",
            "20\n",
            "21\n",
            "22\n",
            "23\n",
            "24\n",
            "25\n",
            "26\n",
            "27\n",
            "28\n",
            "29\n",
            "30\n",
            "31\n",
            "32\n",
            "33\n",
            "34\n",
            "35\n",
            "36\n",
            "37\n",
            "38\n",
            "39\n",
            "40\n",
            "41\n",
            "42\n",
            "43\n",
            "44\n",
            "45\n",
            "46\n",
            "47\n",
            "48\n",
            "49\n",
            "50\n",
            "51\n",
            "52\n",
            "53\n",
            "54\n",
            "55\n",
            "56\n",
            "57\n",
            "58\n",
            "59\n",
            "60\n",
            "61\n",
            "62\n",
            "63\n",
            "64\n",
            "65\n",
            "66\n",
            "67\n",
            "68\n",
            "69\n",
            "70\n",
            "71\n",
            "72\n",
            "73\n",
            "74\n",
            "75\n",
            "76\n",
            "77\n",
            "78\n",
            "79\n",
            "80\n",
            "81\n",
            "82\n",
            "83\n",
            "84\n",
            "85\n",
            "86\n",
            "87\n",
            "88\n",
            "89\n",
            "90\n",
            "91\n",
            "92\n",
            "93\n",
            "94\n",
            "95\n",
            "96\n",
            "97\n",
            "98\n",
            "99\n",
            "100\n"
          ]
        }
      ]
    },
    {
      "cell_type": "code",
      "source": [
        "#Q13: Write a Python program to find the sum of all even numbers between 1 and 50\n",
        "sum = 0\n",
        "for i in range (1, 51):\n",
        "  if i % 2 == 0:\n",
        "    sum += i\n",
        "print (\"sum of all even numbers between 1 and 50:\",sum)"
      ],
      "metadata": {
        "colab": {
          "base_uri": "https://localhost:8080/"
        },
        "id": "-h5vf2GJ-nno",
        "outputId": "c5b32649-2eb6-4aa9-bf3b-f41313be2276"
      },
      "execution_count": 61,
      "outputs": [
        {
          "output_type": "stream",
          "name": "stdout",
          "text": [
            "sum of all even numbers between 1 and 50: 650\n"
          ]
        }
      ]
    },
    {
      "cell_type": "code",
      "source": [
        "#Q14: Write a program to reverse a string using a while loop\n",
        "string = input(\"Enter a string: \")\n",
        "reversed_string = \"\"\n",
        "i = len(string) - 1\n",
        "\n",
        "while i >= 0:\n",
        "    reversed_string += string[i]\n",
        "    i -= 1\n",
        "\n",
        "print(\"Reversed String:\", reversed_string)"
      ],
      "metadata": {
        "colab": {
          "base_uri": "https://localhost:8080/"
        },
        "id": "HuQqe1rz_7TI",
        "outputId": "4992a92c-bb55-4c2f-85fc-a7e47653b3c8"
      },
      "execution_count": 66,
      "outputs": [
        {
          "output_type": "stream",
          "name": "stdout",
          "text": [
            "Enter a string: I am cookie\n",
            "Reversed String: eikooc ma I\n"
          ]
        }
      ]
    },
    {
      "cell_type": "code",
      "source": [
        "#Q15: Write a Python program to calculate the factorial of a number provided by the user using a while loop.\n",
        "num = int(input(\"Enter a number: \"))\n",
        "fact = 1\n",
        "i = 1\n",
        "while i <=num:\n",
        "  fact = fact*i\n",
        "  i += 1\n",
        "print (\"factorial of\", num, \"=\" ,fact)"
      ],
      "metadata": {
        "colab": {
          "base_uri": "https://localhost:8080/"
        },
        "id": "wNP0L-QPBZa2",
        "outputId": "9e323363-7cf9-4324-fdf7-c327ac940a41"
      },
      "execution_count": 69,
      "outputs": [
        {
          "output_type": "stream",
          "name": "stdout",
          "text": [
            "Enter a number: 127\n",
            "factorial of 127 = 3012660018457659544809977077527059692324164918673621799053346900596667207618480809067860692097713761984609779945772783965563851033300772326297773087851869982500270661791244122597621760000000000000000000000000000000\n"
          ]
        }
      ]
    }
  ]
}